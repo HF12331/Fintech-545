{
 "cells": [
  {
   "cell_type": "code",
   "execution_count": 169,
   "id": "f10be23e-cbf6-446a-a764-b848ac344521",
   "metadata": {},
   "outputs": [],
   "source": [
    "import numpy as np \n",
    "from numpy import diag, inf\n",
    "from numpy import copy, dot\n",
    "from numpy.linalg import norm\n",
    "from numpy.linalg import eig\n",
    "from datetime import datetime\n",
    "import matplotlib.pyplot as plt\n",
    "\n",
    "#generate a 500*500 npsd matrix \n",
    "def g_matrix(n):\n",
    "    npsdm = np.full((n,n),0.9)\n",
    "    for i in range(n):\n",
    "        npsdm[i,i]=float(1.0)\n",
    "    npsdm[0,1]=0.7357\n",
    "    npsdm[1,0]=0.7357\n",
    "    return npsdm\n",
    "#check matrix\n",
    "#check eigenvalue if it is negative \n",
    "\n",
    "# w is eigenvalue, v is eigenvector \n",
    "\n",
    "#print(w)"
   ]
  },
  {
   "cell_type": "code",
   "execution_count": 142,
   "id": "57f26cc4-100c-4730-950b-2f7560be27eb",
   "metadata": {},
   "outputs": [],
   "source": [
    "def chol_psd(m):\n",
    "    root = np.full(m.shape, 0.0)\n",
    "    n = root.shape[1]\n",
    "    for j in range(n):\n",
    "        diag_val = m[j,j] - root[j,:j] @ root[j,:j].T\n",
    "        if -1e-6 <= diag_val <= 0:\n",
    "            diag_val = 0.0\n",
    "        elif diag_val < -1e-6:\n",
    "            raise ValueError(\"Matrix is none-psd\")\n",
    "        root[j,j] = np.sqrt(diag_val)\n",
    "        if root[j,j] == 0:\n",
    "            continue\n",
    "        for i in range(j+1, n):\n",
    "            root[i, j] = (m[i,j] - root[i,:j] @ root[j,:j].T) / root[j, j] \n",
    "\n",
    "    return np.matrix(root)\n",
    "    "
   ]
  },
  {
   "cell_type": "code",
   "execution_count": 143,
   "id": "adc1810b-2615-4551-8096-d9fbc584ec35",
   "metadata": {},
   "outputs": [],
   "source": [
    "def near_psd(m):\n",
    "    w, v = np.linalg.eigh(m)\n",
    "    w[w<0] = 0.0\n",
    "    s_square = np.square(v)\n",
    "    T = 1 / (s_square @ w)\n",
    "    T = np.diagflat(np.sqrt(T))\n",
    "    L = np.diag(np.sqrt(w))\n",
    "    B = T @ v @ L \n",
    "    out = B @ B.T # B * B'\n",
    "    return out\n",
    "\n",
    "#check function near_psd "
   ]
  },
  {
   "cell_type": "code",
   "execution_count": 162,
   "id": "d62539be-2ce4-4a88-924b-ad36ed210b9f",
   "metadata": {},
   "outputs": [],
   "source": [
    "def higham(A, tol=[], flag=0, max_iterations=100, n_pos_eig=0,\n",
    "             weights=None, verbose=False,\n",
    "             except_on_too_many_iterations=True):\n",
    "\n",
    "    # If input is an ExceededMaxIterationsError object this\n",
    "    # is a restart computation\n",
    "    if (isinstance(A, ValueError)):\n",
    "        ds = copy(A.ds)\n",
    "        A = copy(A.matrix)\n",
    "    else:\n",
    "        ds = np.zeros(np.shape(A))\n",
    "\n",
    "    eps = np.spacing(1)\n",
    "    if not np.all((np.transpose(A) == A)):\n",
    "        raise ValueError('Input Matrix is not symmetric')\n",
    "    if not tol:\n",
    "        tol = eps * np.shape(A)[0] * np.array([1, 1])\n",
    "    if weights is None:\n",
    "        weights = np.ones(np.shape(A)[0])\n",
    "    X = copy(A)\n",
    "    Y = copy(A)\n",
    "    rel_diffY = inf\n",
    "    rel_diffX = inf\n",
    "    rel_diffXY = inf\n",
    "\n",
    "    Whalf = np.sqrt(np.outer(weights, weights))\n",
    "\n",
    "    iteration = 0\n",
    "    while max(rel_diffX, rel_diffY, rel_diffXY) > tol[0]:\n",
    "        iteration += 1\n",
    "        if iteration > max_iterations:\n",
    "            if except_on_too_many_iterations:\n",
    "                if max_iterations == 1:\n",
    "                    message = \"No solution found in \"\\\n",
    "                              + str(max_iterations) + \" iteration\"\n",
    "                else:\n",
    "                    message = \"No solution found in \"\\\n",
    "                              + str(max_iterations) + \" iterations\"\n",
    "                raise ExceededMaxIterationsError(message, X, iteration, ds)\n",
    "            else:\n",
    "                # exceptOnTooManyIterations is false so just silently\n",
    "                # return the result even though it has not converged\n",
    "                return X\n",
    "\n",
    "        Xold = copy(X)\n",
    "        R = X - ds\n",
    "        R_wtd = Whalf*R\n",
    "        if flag == 0:\n",
    "            X = proj_spd(R_wtd)\n",
    "        elif flag == 1:\n",
    "            raise NotImplementedError(\"Setting 'flag' to 1 is currently\\\n",
    "                                 not implemented.\")\n",
    "        X = X / Whalf\n",
    "        ds = X - R\n",
    "        Yold = copy(Y)\n",
    "        Y = copy(X)\n",
    "        np.fill_diagonal(Y, 1)\n",
    "        normY = norm(Y, 'fro')\n",
    "        rel_diffX = norm(X - Xold, 'fro') / norm(X, 'fro')\n",
    "        rel_diffY = norm(Y - Yold, 'fro') / normY\n",
    "        rel_diffXY = norm(Y - X, 'fro') / normY\n",
    "\n",
    "        X = copy(Y)\n",
    "\n",
    "    return X\n",
    "\n",
    "def proj_spd(A):\n",
    "    # NOTE: the input matrix is assumed to be symmetric\n",
    "    d, v = np.linalg.eigh(A)\n",
    "    A = (v * np.maximum(d, 0)).dot(v.T)\n",
    "    A = (A + A.T) / 2\n",
    "    return(A)\n",
    "\n",
    "#hns = higham(ns)\n",
    "#print(hns)"
   ]
  },
  {
   "cell_type": "code",
   "execution_count": 145,
   "id": "c26eab15-87d8-4d22-a424-62afb48ad1b6",
   "metadata": {},
   "outputs": [
    {
     "name": "stdout",
     "output_type": "stream",
     "text": [
      "False\n",
      "True\n",
      "True\n"
     ]
    }
   ],
   "source": [
    "def is_pos_def(x):\n",
    "    return np.all(np.linalg.eigvals(x)>0)\n",
    "\n",
    "def check_psd(matrix, tolerance=1e-6):\n",
    "    eig_values, eig_vectors = np.linalg.eigh(matrix)\n",
    "    return all(eig_values > -tolerance)\n",
    "\n",
    "try_1 = g_matrix(5)\n",
    "print(check_psd(try_1))\n",
    "print(check_psd(hns))\n",
    "print(check_psd(nps))"
   ]
  },
  {
   "cell_type": "code",
   "execution_count": 146,
   "id": "5109bc08-fa0a-41bd-b811-c912771df896",
   "metadata": {},
   "outputs": [
    {
     "name": "stdout",
     "output_type": "stream",
     "text": [
      "450.10465662398644\n",
      "450.0494394140792\n"
     ]
    }
   ],
   "source": [
    "#frobenius norm "
   ]
  },
  {
   "cell_type": "code",
   "execution_count": 212,
   "id": "1cb1ed48-abe0-4df4-a2fd-91b71f6b264c",
   "metadata": {},
   "outputs": [],
   "source": [
    "def autorun(n): \n",
    "# time for near_psd \n",
    "    start_time = datetime.now()\n",
    "    nsa=g_matrix(n)\n",
    "    w,v=eig(nsa)\n",
    "    nnsa=near_psd(nsa)\n",
    "    near_psf_fro = (np.linalg.norm((nsa-nnsa),'fro'))\n",
    "    end_time = datetime.now()\n",
    "    NDuration = end_time - start_time\n",
    "    \n",
    "    start_time = datetime.now()\n",
    "    nsb=g_matrix(n)\n",
    "    w,v=eig(nsb)\n",
    "    hnps=higham(nsb)\n",
    "    higham_fro= (np.linalg.norm((nsb-hnps)),'fro')\n",
    "    end_time = datetime.now()\n",
    "    hDuration= end_time - start_time\n",
    "    return near_psf_fro,NDuration,higham_fro,hDuration"
   ]
  },
  {
   "cell_type": "code",
   "execution_count": 216,
   "id": "79e26571-aca1-45d0-b16d-cf31a8974901",
   "metadata": {},
   "outputs": [
    {
     "name": "stdout",
     "output_type": "stream",
     "text": [
      "Size is  500 \n",
      "\n",
      "Duration of Chloesky is  0:00:00.209020 Duration of Higham is  0:00:01.275974 \n",
      "\n",
      "F Norm of Chloesky is  0.6275226557659508 F Norm  of Higham is  (0.08964799632524456, 'fro') \n",
      "\n",
      "Size is  600 \n",
      "\n",
      "Duration of Chloesky is  0:00:00.286990 Duration of Higham is  0:00:01.875891 \n",
      "\n",
      "F Norm of Chloesky is  0.6882026666308428 F Norm  of Higham is  (0.08986132327064164, 'fro') \n",
      "\n",
      "Size is  700 \n",
      "\n",
      "Duration of Chloesky is  0:00:00.342976 Duration of Higham is  0:00:02.952299 \n",
      "\n",
      "F Norm of Chloesky is  0.7439495037336205 F Norm  of Higham is  (0.09001394198185893, 'fro') \n",
      "\n",
      "Size is  800 \n",
      "\n",
      "Duration of Chloesky is  0:00:00.486832 Duration of Higham is  0:00:03.536592 \n",
      "\n",
      "F Norm of Chloesky is  0.7958006315839199 F Norm  of Higham is  (0.09012853893086391, 'fro') \n",
      "\n",
      "Size is  900 \n",
      "\n",
      "Duration of Chloesky is  0:00:00.584460 Duration of Higham is  0:00:04.631598 \n",
      "\n",
      "F Norm of Chloesky is  0.8444739843546087 F Norm  of Higham is  (0.09021774889611904, 'fro') \n",
      "\n",
      "Size is  1000 \n",
      "\n",
      "Duration of Chloesky is  0:00:00.749773 Duration of Higham is  0:00:06.245905 \n",
      "\n",
      "F Norm of Chloesky is  0.8904908160667164 F Norm  of Higham is  (0.09028916671758008, 'fro') \n",
      "\n"
     ]
    }
   ],
   "source": [
    "array = [500,600,700,800,900,1000]\n",
    "for i in array: \n",
    "    a,b,c,d = autorun(i)\n",
    "    print(\"Size is \", i, \"\\n\")\n",
    "    print(\"Duration of Chloesky is \", b, \"Duration of Higham is \", d,\"\\n\")\n",
    "    print(\"F Norm of Chloesky is \", a, \"F Norm  of Higham is \", c,\"\\n\")"
   ]
  },
  {
   "cell_type": "code",
   "execution_count": null,
   "id": "943b0fda-ffec-4a74-aab1-8bfb701abd58",
   "metadata": {},
   "outputs": [],
   "source": []
  }
 ],
 "metadata": {
  "kernelspec": {
   "display_name": "Python 3 (ipykernel)",
   "language": "python",
   "name": "python3"
  },
  "language_info": {
   "codemirror_mode": {
    "name": "ipython",
    "version": 3
   },
   "file_extension": ".py",
   "mimetype": "text/x-python",
   "name": "python",
   "nbconvert_exporter": "python",
   "pygments_lexer": "ipython3",
   "version": "3.9.13"
  }
 },
 "nbformat": 4,
 "nbformat_minor": 5
}
