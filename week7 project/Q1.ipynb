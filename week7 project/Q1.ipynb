{
 "cells": [
  {
   "cell_type": "code",
   "execution_count": 16,
   "id": "771b4985-ce9a-4da8-b499-1c1bbf35c723",
   "metadata": {},
   "outputs": [],
   "source": [
    "st=151.03   #current price\n",
    "K=165  #Strike price\n",
    "r=4.25    \n",
    "t= 33\n",
    "v=20     \n",
    "coupon = 0.53\n",
    "r=r-coupon\n",
    "ttm=t/365"
   ]
  },
  {
   "cell_type": "code",
   "execution_count": 17,
   "id": "b73af127-1a05-4154-bf0f-8f51bd9170ea",
   "metadata": {},
   "outputs": [
    {
     "data": {
      "text/plain": [
       "{'value': {'option value': 0.3359599437090406,\n",
       "  'intrinsic value': 0,\n",
       "  'time value': 0.3359599437090406},\n",
       " 'greeks': {'delta': 0.08301107089626869,\n",
       "  'gamma': 0.016830979206204362,\n",
       "  'theta': -0.02227999433394731,\n",
       "  'vega': 0.06942036604441162,\n",
       "  'rho': 0.011031223810791666},\n",
       " 'Carry Rho': 1.2383432356991317}"
      ]
     },
     "execution_count": 17,
     "metadata": {},
     "output_type": "execute_result"
    }
   ],
   "source": [
    "bsm=op.black_scholes(K=K, St=st, r=r, t=t, v=v, type='c')\n",
    "bsm['Carry Rho']=bsm['greeks']['delta']*ttm*165\n",
    "bsm"
   ]
  },
  {
   "cell_type": "code",
   "execution_count": 18,
   "id": "e839f55c-35c9-4c64-9e54-2eb48ab27252",
   "metadata": {},
   "outputs": [
    {
     "data": {
      "text/plain": [
       "{'value': {'option value': 13.751949648187235,\n",
       "  'intrinsic value': 13.969999999999999,\n",
       "  'time value': -0.21805035181276367},\n",
       " 'greeks': {'delta': -0.9169889291037313,\n",
       "  'gamma': 0.016830979206204362,\n",
       "  'theta': -0.005520019492833374,\n",
       "  'vega': 0.06942036604441162,\n",
       "  'rho': -0.1376459723603804},\n",
       " 'Carry Rho': 13.679464983478951}"
      ]
     },
     "execution_count": 18,
     "metadata": {},
     "output_type": "execute_result"
    }
   ],
   "source": [
    "bsm=op.black_scholes(K=K, St=st, r=r, t=t, v=v, type='p')\n",
    "bsm['Carry Rho']=bsm['greeks']['delta']*ttm*-165\n",
    "bsm"
   ]
  },
  {
   "cell_type": "code",
   "execution_count": 19,
   "id": "4a9ae74b-968c-4885-b7e0-d26ae4008776",
   "metadata": {},
   "outputs": [],
   "source": [
    "def black_scholes_call(S, K, r, q, sigma, T):\n",
    "    d1 = (np.log(S/K) + (r - q + sigma**2/2)*T) / (sigma*np.sqrt(T))\n",
    "    d2 = d1 - sigma*np.sqrt(T)\n",
    "    N_d1 = norm.cdf(d1)\n",
    "    N_d2 = norm.cdf(d2)\n",
    "    return S*np.exp(-q*T)*N_d1 - K*np.exp(-r*T)*N_d2\n",
    "def black_scholes_put(S, K, r, q, sigma, T):\n",
    "    d1 = (np.log(S/K) + (r - q + sigma**2/2)*T) / (sigma*np.sqrt(T))\n",
    "    d2 = d1 - sigma*np.sqrt(T)\n",
    "    N_minus_d1 = norm.cdf(-d1)\n",
    "    N_minus_d2 = norm.cdf(-d2)\n",
    "    return K*np.exp(-r*T)*N_minus_d2 - S*np.exp(-q*T)*N_minus_d1"
   ]
  },
  {
   "cell_type": "code",
   "execution_count": 20,
   "id": "a9528fa2-0731-4dd2-92b3-95741a48383c",
   "metadata": {},
   "outputs": [],
   "source": [
    "def call_calculation(S,K,r,q,ivol,T):\n",
    "    d1 = (np.log(S/K) + (r + (ivol**2)/2)*T)/(ivol*np.sqrt(T))\n",
    "    d2 = d1 - ivol*np.sqrt(T)\n",
    "    Nd1 = norm.cdf(d1)\n",
    "    Nd2 = norm.cdf(d2)\n",
    "    delta_closed = Nd1\n",
    "    gamma_closed = norm.pdf(d1)/(S*ivol*np.sqrt(T))\n",
    "    theta_closed = -(S*ivol*norm.pdf(d1))/(2*np.sqrt(T)) - r*K*np.exp(-r*T)*Nd2\n",
    "    vega_closed = S*np.sqrt(T)*norm.pdf(d1)\n",
    "    h = 0.01\n",
    "    S_plus_h = S + h\n",
    "    S_minus_h = S - h\n",
    "    V_plus_h = ivol + h \n",
    "    V_minus_h = ivol - h \n",
    "    R_plus_h = r+h\n",
    "    R_minus_h = r - h\n",
    "    C_plus_h = black_scholes_call(S_plus_h, K, r, q, ivol, T)\n",
    "    C_minus_h = black_scholes_call(S_minus_h, K, r, q, ivol, T)\n",
    "    delta_finite_diff = (C_plus_h - C_minus_h)/(2*h)\n",
    "    gamma_finite_diff = (black_scholes_call(S_plus_h, K, r, q, ivol, T) - 2*black_scholes_call(S, K, r, q, ivol, T) + black_scholes_call(S_minus_h, K, r, q, ivol, T))/(h**2)\n",
    "    theta_finite_diff = -(black_scholes_call(S_plus_h, K, r, q, ivol, T) - black_scholes_call(S_minus_h, K, r, q, ivol, T))/(2*h) - r*black_scholes_call(S, K, r, q, ivol, T)\n",
    "    #vega_finite_diff = (black_scholes_call(S, K, r, q, V_plus_h, T)-black_scholes_call(S, K, r, q, V_minus_h, T))/(2*h*ivol)\n",
    "    #rho_finite_diff = (black_scholes_call(S, K, R_plus_h, q, ivol, T)-black_scholes_call(S, K, R_minus_h, q, ivol, T))/(2*h*r)\n",
    "    return delta_finite_diff,gamma_finite_diff,theta_finite_diff"
   ]
  },
  {
   "cell_type": "code",
   "execution_count": 21,
   "id": "647091f2-0918-4480-af5d-49d0325ae1da",
   "metadata": {},
   "outputs": [],
   "source": [
    "def put_calculation(S,K,r,q,ivol,T):\n",
    "    d1 = (np.log(S/K) + (r + (ivol**2)/2)*T)/(ivol*np.sqrt(T))\n",
    "    d2 = d1 - ivol*np.sqrt(T)\n",
    "    Nd1 = norm.cdf(d1)\n",
    "    Nd2 = norm.cdf(d2)\n",
    "    delta_closed = Nd1\n",
    "    gamma_closed = norm.pdf(d1)/(S*ivol*np.sqrt(T))\n",
    "    theta_closed = -(S*ivol*norm.pdf(d1))/(2*np.sqrt(T)) - r*K*np.exp(-r*T)*Nd2\n",
    "    vega_closed = S*np.sqrt(T)*norm.pdf(d1)\n",
    "    h = 0.01\n",
    "    S_plus_h = S + h\n",
    "    S_minus_h = S - h\n",
    "    V_plus_h = ivol + h \n",
    "    V_minus_h = ivol - h \n",
    "    R_plus_h = r+h\n",
    "    R_minus_h = r - h\n",
    "    C_plus_h = black_scholes_put(S_plus_h, K, r, q, ivol, T)\n",
    "    C_minus_h = black_scholes_put(S_minus_h, K, r, q, ivol, T)\n",
    "    delta_finite_diff = (C_plus_h - C_minus_h)/(2*h)\n",
    "    gamma_finite_diff = (black_scholes_put(S_plus_h, K, r, q, ivol, T) - 2*black_scholes_put(S, K, r, q, ivol, T) + black_scholes_put(S_minus_h, K, r, q, ivol, T))/(h**2)\n",
    "    theta_finite_diff = -(black_scholes_put(S_plus_h, K, r, q, ivol, T) - black_scholes_put(S_minus_h, K, r, q, ivol, T))/(2*h) - r*black_scholes_put(S, K, r, q, ivol, T)\n",
    "    #vega_finite_diff = (black_scholes_call(S, K, r, q, V_plus_h, T)-black_scholes_call(S, K, r, q, V_minus_h, T))/(2*h*ivol)\n",
    "    #rho_finite_diff = (black_scholes_call(S, K, R_plus_h, q, ivol, T)-black_scholes_call(S, K, R_minus_h, q, ivol, T))/(2*h*r)\n",
    "    return delta_finite_diff,gamma_finite_diff,theta_finite_diff"
   ]
  },
  {
   "cell_type": "code",
   "execution_count": 29,
   "id": "12db9ba0-759e-44b7-94d1-42833108e36b",
   "metadata": {},
   "outputs": [
    {
     "name": "stdout",
     "output_type": "stream",
     "text": [
      "Call  delta : 0.08297134424122277 Gamma : 0.016822917423553463 Theta : -0.09724280164056233\n",
      "Put  delta : -0.9165495924605693 Gamma : 0.016822917814351968 Theta : 0.3323717247206667\n"
     ]
    }
   ],
   "source": [
    "st=151.03   #current price\n",
    "K=165  #Strike price\n",
    "r=0.0425     \n",
    "t=33      \n",
    "ivol=0.2     \n",
    "q = 0.0053\n",
    "ttm=t/365\n",
    "x=call_calculation(st,K,r,q,ivol,ttm)\n",
    "y=put_calculation(st,K,r,q,ivol,ttm)\n",
    "print('Call ','delta :',x[0],'Gamma :',x[1],'Theta :',x[2])\n",
    "print('Put ','delta :',y[0],'Gamma :',y[1],'Theta :',y[2])"
   ]
  },
  {
   "cell_type": "code",
   "execution_count": 23,
   "id": "80cb3d6f-038b-4509-9d48-f207dba25fc2",
   "metadata": {},
   "outputs": [],
   "source": [
    "import math\n",
    "def combos(n, i):\n",
    "    return math.factorial(n) / (math.factorial(n-i)*math.factorial(i))"
   ]
  },
  {
   "cell_type": "code",
   "execution_count": 24,
   "id": "cef48897-70d3-4b90-988e-e775d5a74ec2",
   "metadata": {},
   "outputs": [],
   "source": [
    "def binom_EU1(S, K , T, r, ivol, N, type_ = 'call'):\n",
    "    dt = T/N\n",
    "    u = np.exp(ivol * np.sqrt(dt))\n",
    "    d = np.exp(-ivol * np.sqrt(dt))\n",
    "    p = (  np.exp(r*dt) - d )  /  (  u - d )\n",
    "    value = 0 \n",
    "    for i in range(N+1):\n",
    "        node_prob = combos(N, i)*p**i*(1-p)**(N-i)\n",
    "        ST = S*(u)**i*(d)**(N-i)\n",
    "        if type_ == 'call':\n",
    "            value += max(ST-K,0) * node_prob\n",
    "        elif type_ == 'put':\n",
    "            value += max(K-ST, 0)*node_prob\n",
    "        else:\n",
    "            raise ValueError(\"type_ must be 'call' or 'put'\" )\n",
    "    \n",
    "    return value*np.exp(-r*T)\n"
   ]
  },
  {
   "cell_type": "code",
   "execution_count": 25,
   "id": "175cd72e-4d71-46a4-9a94-bfcef060778a",
   "metadata": {},
   "outputs": [],
   "source": [
    "def cal_div_period(T0, Td, T1, N):\n",
    "    return int((Td - T0).days / (T1 - T0).days * N) "
   ]
  },
  {
   "cell_type": "code",
   "execution_count": 26,
   "id": "d94aaafd-a60d-475a-8dbf-323fbec81190",
   "metadata": {},
   "outputs": [],
   "source": [
    "st = 151.03\n",
    "K= 165\n",
    "r = 0.0425-0.0053\n",
    "ivol = 0.2\n",
    "T0 = datetime(2022, 3, 13) \n",
    "T1= datetime(2022, 4, 15) \n",
    "Td = datetime(2022, 4, 11) \n",
    "ttm = 33/365\n",
    "div = 0.88"
   ]
  },
  {
   "cell_type": "code",
   "execution_count": 27,
   "id": "cfac5ccf-55e0-4db8-a45e-91eaacc2c87f",
   "metadata": {},
   "outputs": [
    {
     "name": "stdout",
     "output_type": "stream",
     "text": [
      "value of American call Option w/ div is : 0.29181370999094486\n",
      "value of American put Option w/ div is : 14.627752573353897\n",
      "value of American call Option w/o div is : 0.3359668460797688\n",
      "value of American call Option w/o div is : 14.038608480309883\n"
     ]
    }
   ],
   "source": [
    "N = 100\n",
    "DP = cal_div_period(T0, Td, T1, N)\n",
    "call= bt_american(True, st, K, ttm, r, 0,ivol, N, dividends=[(DP, div)])\n",
    "put = bt_american(False, st, K, ttm, r, 0,ivol, N, dividends=[(DP, div)])    \n",
    "\n",
    "print('value of American call Option w/ div is :',call)\n",
    "print('value of American put Option w/ div is :',put)\n",
    "\n",
    "call = bt_american(True, st, K, ttm, r, 0,ivol, N, dividends=[])\n",
    "put= bt_american(False, st, K, ttm, r, 0,ivol, N, dividends=[])    \n",
    "\n",
    "print('value of American call Option w/o div is :',call)\n",
    "print('value of American call Option w/o div is :',put)"
   ]
  },
  {
   "cell_type": "code",
   "execution_count": null,
   "id": "de975f1d-aed4-443d-a12e-f3e108d58bfc",
   "metadata": {},
   "outputs": [],
   "source": []
  }
 ],
 "metadata": {
  "kernelspec": {
   "display_name": "Python 3 (ipykernel)",
   "language": "python",
   "name": "python3"
  },
  "language_info": {
   "codemirror_mode": {
    "name": "ipython",
    "version": 3
   },
   "file_extension": ".py",
   "mimetype": "text/x-python",
   "name": "python",
   "nbconvert_exporter": "python",
   "pygments_lexer": "ipython3",
   "version": "3.9.13"
  }
 },
 "nbformat": 4,
 "nbformat_minor": 5
}
