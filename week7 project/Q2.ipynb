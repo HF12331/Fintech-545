{
 "cells": [
  {
   "cell_type": "code",
   "execution_count": 77,
   "id": "9582acb2-2a0d-4359-bb4c-17f0da9172a2",
   "metadata": {},
   "outputs": [],
   "source": [
    "import numpy as np \n",
    "import pandas as pd \n",
    "import opstrat as op\n",
    "import scipy.stats as st\n",
    "from scipy.stats import norm\n",
    "from datetime import datetime\n",
    "from scipy.optimize import fsolve\n",
    "from option_tool.AMBT import bt_american,am_bs,implied_vol"
   ]
  },
  {
   "cell_type": "code",
   "execution_count": 98,
   "id": "3a9b1d39-40ab-4211-8d13-1229c9cffa09",
   "metadata": {},
   "outputs": [],
   "source": [
    "St = 151.03\n",
    "r = 0.0425\n",
    "T0=datetime(2023,3,3) \n",
    "TT=datetime(2023,3,13)\n",
    "T1=datetime(2023,4,21) \n",
    "TD=datetime(2023,3,15) \n",
    "rate=0\n",
    "port = pd.read_csv('problem2.csv')"
   ]
  },
  {
   "cell_type": "code",
   "execution_count": 79,
   "id": "85f52d67-91e4-4647-895c-1aae18c195ee",
   "metadata": {},
   "outputs": [],
   "source": [
    "def return_calculate(price,method):\n",
    "    names=price.columns\n",
    "    num=len(names)\n",
    "    names_2=names[names!='Date']\n",
    "\n",
    "    if num==len(names_2):\n",
    "        print(\"\")\n",
    "    else:\n",
    "        num=num-1\n",
    "\n",
    "    pos=np.where(names!='Date')[0]\n",
    "    row_num=price.shape[0]\n",
    "    out=np.zeros([row_num-1,num])\n",
    "    for i in range(num):\n",
    "        temp=np.array(price.iloc[:,pos[i]])\n",
    "\n",
    "        if method.upper()=='DISCRETE':\n",
    "            out[:,i]=temp[1:]/temp[0:-1]-1\n",
    "        elif method.upper()=='LOG':\n",
    "            out[:,i]=np.log(temp[1:])-np.log(temp[0:-1])\n",
    "        else:\n",
    "            print('method must in Log or Discrete')\n",
    "\n",
    "    out=pd.DataFrame(out)\n",
    "    out.index=price.index[1:]\n",
    "    out.columns=price.columns[pos]\n",
    "\n",
    "    return out"
   ]
  },
  {
   "cell_type": "code",
   "execution_count": 80,
   "id": "671b92e2-44ed-4818-8cb4-21e755eab292",
   "metadata": {},
   "outputs": [],
   "source": [
    "AAPL = pd.read_csv('DailyPrices.csv')\n",
    "AAPL = return_calculate(AAPL,method='Discrete')\n",
    "AAPL =AAPL['AAPL']\n",
    "AAPLV =AAPL.std()"
   ]
  },
  {
   "cell_type": "code",
   "execution_count": 81,
   "id": "86386f31-6bb6-4998-b1ce-711c3b4cf057",
   "metadata": {},
   "outputs": [
    {
     "data": {
      "text/plain": [
       "(0     150.0\n",
       " 1     150.0\n",
       " 2     150.0\n",
       " 3     150.0\n",
       " 4     150.0\n",
       " 5     160.0\n",
       " 6     150.0\n",
       " 7     140.0\n",
       " 8       NaN\n",
       " 9     150.0\n",
       " 10    150.0\n",
       " 11      NaN\n",
       " 12    155.0\n",
       " 13      NaN\n",
       " 14    145.0\n",
       " Name: Strike, dtype: float64,\n",
       " array([ 1.,  0.,  1.,  0.,  1.,  1.,  0.,  0., nan,  1.,  0., nan,  1.,\n",
       "        nan,  0.]),\n",
       " 0       6.80\n",
       " 1       4.85\n",
       " 2       6.80\n",
       " 3       4.85\n",
       " 4       6.80\n",
       " 5       2.21\n",
       " 6       4.85\n",
       " 7       1.84\n",
       " 8     151.03\n",
       " 9       6.80\n",
       " 10      4.85\n",
       " 11    151.03\n",
       " 12      4.05\n",
       " 13    151.03\n",
       " 14      3.01\n",
       " Name: CurrentPrice, dtype: float64)"
      ]
     },
     "execution_count": 81,
     "metadata": {},
     "output_type": "execute_result"
    }
   ],
   "source": [
    "ttm =(T1-T0).days/365 \n",
    "K = port['Strike']\n",
    "O_type = np.where((port['OptionType'] == 'Call'),True, np.where((port['OptionType'] == 'Put'),False,np.nan))\n",
    "opt_price = port['CurrentPrice']\n",
    "K,O_type,opt_price"
   ]
  },
  {
   "cell_type": "code",
   "execution_count": 104,
   "id": "066630c0-7587-4716-bb3a-437e5f0a031b",
   "metadata": {},
   "outputs": [
    {
     "data": {
      "text/plain": [
       "[0.2649281037758111,\n",
       " 0.26186227132436496,\n",
       " 0.2649281037758111,\n",
       " 0.26186227132436496,\n",
       " 0.2649281037758111,\n",
       " 0.2336101965351821,\n",
       " 0.26186227132436496,\n",
       " 0.28238433791042467,\n",
       " 0,\n",
       " 0.2649281037758111,\n",
       " 0.26186227132436496,\n",
       " 0,\n",
       " 0.2447132724090443,\n",
       " 0,\n",
       " 0.26921400715881616]"
      ]
     },
     "execution_count": 104,
     "metadata": {},
     "output_type": "execute_result"
    }
   ],
   "source": [
    "ivol=[]\n",
    "delta=[]\n",
    "for i in range(len(K)):\n",
    "    if port['Type'][i] == 'Option':\n",
    "        temiv=implied_vol(St,K[i],ttm,r,rate,opt_price[i],O_type[i])\n",
    "        ivol.append(temiv)\n",
    "        if port['OptionType'][i]=='Call':\n",
    "            opt = 'c' \n",
    "        else:\n",
    "            opt = 'p' \n",
    "ivol.insert(8,0)\n",
    "ivol.insert(11,0)\n",
    "ivol.insert(13,0)\n",
    "ivol"
   ]
  },
  {
   "cell_type": "code",
   "execution_count": 113,
   "id": "a1125eea-5ecb-4dae-9c2d-5149a3c61d26",
   "metadata": {},
   "outputs": [
    {
     "data": {
      "text/plain": [
       "50"
      ]
     },
     "execution_count": 113,
     "metadata": {},
     "output_type": "execute_result"
    }
   ],
   "source": [
    "nsamples = 50\n",
    "sim_rets = st.norm(0, AAPLV).rvs((10, nsamples))\n",
    "sim_prices = 151.03 * (1 + sim_rets).prod(axis=0) \n",
    "len(sim_prices)"
   ]
  },
  {
   "cell_type": "code",
   "execution_count": 114,
   "id": "bd645567-21df-4ab3-a070-ab2ad2aafc79",
   "metadata": {},
   "outputs": [
    {
     "data": {
      "text/plain": [
       "([11.649999999999999,\n",
       "  1.9500000000000002,\n",
       "  4.59,\n",
       "  3.01,\n",
       "  151.03,\n",
       "  6.8,\n",
       "  4.85,\n",
       "  146.98,\n",
       "  154.04],\n",
       " array(['Straddle', 'SynLong', 'CallSpread', 'PutSpread', 'Stock', 'Call ',\n",
       "        'Put ', 'CoveredCall', 'ProtectedPut'], dtype=object))"
      ]
     },
     "execution_count": 114,
     "metadata": {},
     "output_type": "execute_result"
    }
   ],
   "source": [
    "PV=[]\n",
    "Strategy = port['Portfolio'].unique()\n",
    "ret=pd.DataFrame()\n",
    "mean=[]\n",
    "VaR=[]\n",
    "ES=[]\n",
    "for i in range(len(Strategy)):\n",
    "    data = port[port['Portfolio']==Strategy[i]]\n",
    "    pv = (data['CurrentPrice']*data['Holding']).sum()\n",
    "    PV.append(pv)\n",
    "PV,Strategy"
   ]
  },
  {
   "cell_type": "code",
   "execution_count": 118,
   "id": "4dc13a2a-8116-495f-bb77-0267483cb8e5",
   "metadata": {},
   "outputs": [],
   "source": [
    "def cal_div_period(T0, Td, T1, N):\n",
    "    return int((Td - T0).days / (T1 - T0).days * N) \n",
    "ttm =(T1-TT).days/365 \n",
    "nperiods =50 \n",
    "div=1 \n",
    "DP = cal_div_period(TT, TD, T1, nperiods)"
   ]
  },
  {
   "cell_type": "code",
   "execution_count": 121,
   "id": "c001d386-103c-4dbc-8929-ab28595c5f29",
   "metadata": {},
   "outputs": [
    {
     "data": {
      "text/plain": [
       "[(14, 49, 96.97348240845142)]"
      ]
     },
     "execution_count": 121,
     "metadata": {},
     "output_type": "execute_result"
    }
   ],
   "source": [
    "for i in range(len(K)):\n",
    "    for j in range(len(sim_prices)):\n",
    "        if ivol[i] == 0:\n",
    "            tem_price = sim_prices\n",
    "        else:\n",
    "            tem_price = bt_american(O_type[i], j, K[i], ttm, r, rate,ivol[i], nperiods, dividends=[(DP, div)])\n",
    "    result=[(i,j,tem_price)]       "
   ]
  },
  {
   "cell_type": "code",
   "execution_count": null,
   "id": "4e6dfbed-b5c0-4fa3-aef3-a57a4fa645da",
   "metadata": {},
   "outputs": [],
   "source": [
    "def Normal_VaR(x,alpha):\n",
    "\n",
    "    mu = np.mean(x)\n",
    "    sd = np.std(x)\n",
    "    VaR_Normal = -norm.ppf(alpha, mu, sd)\n",
    "\n",
    "    return VaR_Normal"
   ]
  },
  {
   "cell_type": "code",
   "execution_count": null,
   "id": "61ba32d1-0a8b-4887-9120-8956c285288c",
   "metadata": {},
   "outputs": [],
   "source": [
    "def Normal_ES(x,alpha):\n",
    "    mu = np.mean(x)\n",
    "    sd = np.std(x)\n",
    "    ES_Normal = -mu + sd * norm.pdf(norm.ppf(alpha, 0, 1)) / alpha\n",
    "\n",
    "    return ES_Normal"
   ]
  }
 ],
 "metadata": {
  "kernelspec": {
   "display_name": "Python 3 (ipykernel)",
   "language": "python",
   "name": "python3"
  },
  "language_info": {
   "codemirror_mode": {
    "name": "ipython",
    "version": 3
   },
   "file_extension": ".py",
   "mimetype": "text/x-python",
   "name": "python",
   "nbconvert_exporter": "python",
   "pygments_lexer": "ipython3",
   "version": "3.9.13"
  }
 },
 "nbformat": 4,
 "nbformat_minor": 5
}
