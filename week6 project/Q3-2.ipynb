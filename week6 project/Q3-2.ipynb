{
 "cells": [
  {
   "cell_type": "code",
   "execution_count": 25,
   "id": "765dbca5-f671-4538-9a36-41bbd77d873e",
   "metadata": {},
   "outputs": [],
   "source": [
    "import numpy as np\n",
    "import pandas as pd\n",
    "import statsmodels.api as sm"
   ]
  },
  {
   "cell_type": "code",
   "execution_count": 21,
   "id": "55c19275-c6e5-4474-80c7-ba35bd50f86b",
   "metadata": {},
   "outputs": [],
   "source": [
    "def calculate_log_return(prices):\n",
    "    log_returns = np.diff(np.log(prices))\n",
    "    return log_returns"
   ]
  },
  {
   "cell_type": "code",
   "execution_count": 24,
   "id": "86e6f5f3-c221-4837-b2ba-da0d052466ab",
   "metadata": {},
   "outputs": [
    {
     "name": "stdout",
     "output_type": "stream",
     "text": [
      "0.037249622142391324 0.046601636091860674\n"
     ]
    }
   ],
   "source": [
    "df=pd.read_csv('DailyPrices.csv')\n",
    "#normal\n",
    "prices=df['AAPL']\n",
    "l_r=calculate_log_return(prices)\n",
    "mu=np.mean(l_r)\n",
    "sd=np.std(l_r)\n",
    "alpha=0.05\n",
    "VaR_Normal=-norm.ppf(alpha,mu,sd)\n",
    "ES_Normal=-mu+sd*norm.pdf(norm.ppf(alpha,0,1))/alpha\n",
    "print(VaR_Normal,ES_Normal)"
   ]
  },
  {
   "cell_type": "code",
   "execution_count": 26,
   "id": "edf31aa1-76f5-4f24-ad71-5b0a4746af25",
   "metadata": {},
   "outputs": [
    {
     "name": "stdout",
     "output_type": "stream",
     "text": [
      "                               SARIMAX Results                                \n",
      "==============================================================================\n",
      "Dep. Variable:                      y   No. Observations:                  248\n",
      "Model:                 ARIMA(1, 0, 0)   Log Likelihood                 590.665\n",
      "Date:                Sat, 18 Mar 2023   AIC                          -1175.329\n",
      "Time:                        02:44:34   BIC                          -1164.789\n",
      "Sample:                             0   HQIC                         -1171.086\n",
      "                                - 248                                         \n",
      "Covariance Type:                  opg                                         \n",
      "==============================================================================\n",
      "                 coef    std err          z      P>|z|      [0.025      0.975]\n",
      "------------------------------------------------------------------------------\n",
      "const         -0.0004      0.001     -0.321      0.748      -0.003       0.002\n",
      "ar.L1         -0.0468      0.063     -0.742      0.458      -0.171       0.077\n",
      "sigma2         0.0005   4.31e-05     11.595      0.000       0.000       0.001\n",
      "===================================================================================\n",
      "Ljung-Box (L1) (Q):                   0.00   Jarque-Bera (JB):                 2.59\n",
      "Prob(Q):                              0.95   Prob(JB):                         0.27\n",
      "Heteroskedasticity (H):               0.96   Skew:                             0.03\n",
      "Prob(H) (two-sided):                  0.84   Kurtosis:                         3.50\n",
      "===================================================================================\n",
      "\n",
      "Warnings:\n",
      "[1] Covariance matrix calculated using the outer product of gradients (complex-step).\n"
     ]
    }
   ],
   "source": [
    "model = sm.tsa.ARIMA(l_r, order=(1,0,0))\n",
    "results = model.fit()\n",
    "print(results.summary())"
   ]
  },
  {
   "cell_type": "code",
   "execution_count": 30,
   "id": "ee3bdc83-b3e9-4d59-9c01-1f4a7fbf0507",
   "metadata": {},
   "outputs": [
    {
     "name": "stdout",
     "output_type": "stream",
     "text": [
      "150.71084565238397 -150.39857296835606 -150.31924310840998\n"
     ]
    }
   ],
   "source": [
    "simulated_log_returns = results.predict(start=len(l_r), end=len(l_r)+9)\n",
    "\n",
    "simulated_log_prices = np.cumsum(simulated_log_returns)\n",
    "\n",
    "current_price = 151.03\n",
    "simulated_prices = current_price * np.exp(simulated_log_prices)\n",
    "\n",
    "mu=np.mean(simulated_prices)\n",
    "sd=np.std(simulated_prices)\n",
    "alpha=0.05\n",
    "VaR_Normal=-norm.ppf(alpha,mu,sd)\n",
    "ES_Normal=-mu+sd*norm.pdf(norm.ppf(alpha,0,1))/alpha\n",
    "print(mu,VaR_Normal,ES_Normal)"
   ]
  },
  {
   "cell_type": "code",
   "execution_count": null,
   "id": "5e7dcaf0-f8a4-4a33-8e97-d20bc159cdf9",
   "metadata": {},
   "outputs": [],
   "source": []
  }
 ],
 "metadata": {
  "kernelspec": {
   "display_name": "Python 3 (ipykernel)",
   "language": "python",
   "name": "python3"
  },
  "language_info": {
   "codemirror_mode": {
    "name": "ipython",
    "version": 3
   },
   "file_extension": ".py",
   "mimetype": "text/x-python",
   "name": "python",
   "nbconvert_exporter": "python",
   "pygments_lexer": "ipython3",
   "version": "3.9.13"
  }
 },
 "nbformat": 4,
 "nbformat_minor": 5
}
