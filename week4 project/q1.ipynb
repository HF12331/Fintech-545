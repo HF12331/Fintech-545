{
 "cells": [
  {
   "cell_type": "code",
   "execution_count": 16,
   "id": "9cadb0d8-5d9d-48c8-8623-a92f45329ed1",
   "metadata": {},
   "outputs": [
    {
     "name": "stdout",
     "output_type": "stream",
     "text": [
      "                                 mean        sd\n",
      "Classical Brownian Motion  100.000319  0.098970\n",
      "Arithmetic Return System   100.031893  9.897047\n",
      "Geometric Brownian Motion  100.523568  9.990007\n",
      "                                 mean         sd\n",
      "Classical Brownian Motion  100.000000   0.100000\n",
      "Arithmetic Return System   100.000000  10.000000\n",
      "Geometric Brownian Motion  100.501252  10.075303\n"
     ]
    }
   ],
   "source": [
    "import numpy as np\n",
    "import pandas as pd\n",
    "nsim=10000\n",
    "sigma=0.1\n",
    "P_s=100\n",
    "r_t=np.random.randn(nsim)*sigma\n",
    "#print(r_t)\n",
    "Pt_CBM=P_s+r_t\n",
    "Pt_ARS=P_s*(1+r_t)\n",
    "Pt_GBM=P_s*np.exp(r_t)\n",
    "\n",
    "Pt=np.array([Pt_CBM,Pt_ARS,Pt_GBM])\n",
    "out=np.zeros([3,2])\n",
    "for i in range(3):\n",
    "    temp=Pt[i]\n",
    "    out[i,0]=np.mean(temp)\n",
    "    out[i,1]=np.std(temp)\n",
    "\n",
    "out=pd.DataFrame(out)\n",
    "out.columns=['mean','sd']\n",
    "out.index=['Classical Brownian Motion','Arithmetic Return System','Geometric Brownian Motion']\n",
    "out_expectation=np.zeros([3,2])\n",
    "out_expectation[0,0]=P_s\n",
    "out_expectation[0,1]=sigma\n",
    "out_expectation[1,0]=P_s\n",
    "out_expectation[1,1]=P_s*sigma\n",
    "out_expectation[2,0]=P_s*np.exp(0.5*sigma**2)\n",
    "out_expectation[2,1]=np.sqrt(P_s**2*np.exp(2*sigma**2)-out_expectation[2,0]**2)\n",
    "out_expectation=pd.DataFrame(out_expectation)\n",
    "out_expectation.columns=['mean','sd']\n",
    "out_expectation.index=['Classical Brownian Motion','Arithmetic Return System','Geometric Brownian Motion']\n",
    "\n",
    "print(out)\n",
    "print(out_expectation)"
   ]
  },
  {
   "cell_type": "code",
   "execution_count": null,
   "id": "4214cf81-3a5e-4845-b662-e4c038a0b249",
   "metadata": {},
   "outputs": [],
   "source": []
  }
 ],
 "metadata": {
  "kernelspec": {
   "display_name": "Python 3 (ipykernel)",
   "language": "python",
   "name": "python3"
  },
  "language_info": {
   "codemirror_mode": {
    "name": "ipython",
    "version": 3
   },
   "file_extension": ".py",
   "mimetype": "text/x-python",
   "name": "python",
   "nbconvert_exporter": "python",
   "pygments_lexer": "ipython3",
   "version": "3.9.13"
  }
 },
 "nbformat": 4,
 "nbformat_minor": 5
}
