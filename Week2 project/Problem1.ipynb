{
 "cells": [
  {
   "cell_type": "code",
   "execution_count": 1,
   "id": "2f2a993d-19b6-4505-802c-7618c5ceab8f",
   "metadata": {},
   "outputs": [
    {
     "name": "stdout",
     "output_type": "stream",
     "text": [
      "(0.00021073550028250635, -0.00552796202606965)\n"
     ]
    }
   ],
   "source": [
    "import numpy as np\n",
    "import math\n",
    "\n",
    "from numpy.random import normal\n",
    "\n",
    "\n",
    "def remove_mu(data,mu):\n",
    "    for i in range(0,1000):\n",
    "        data[i] = data[i]-mu\n",
    "    return data\n",
    "def fourmoments(n):\n",
    "    x = np.random.normal(0,1,n)\n",
    "    mu=np.mean(x)\n",
    "    x_mu=remove_mu(x,mu)\n",
    "    nm=np.mean(x_mu)\n",
    "    cm2=sum(x_mu*x_mu)/n\n",
    "    #variance by hand\n",
    "    sigma2_hat=sum(x_mu*x_mu)/(n-1)\n",
    "    #variance by package\n",
    "    #sig2_hat=np.var(x_mu)\n",
    "    #skewness\n",
    "    skew_hat = sum(x_mu * x_mu *x_mu)/n/math.sqrt(cm2*cm2*cm2)\n",
    "    #kurtosis\n",
    "    kurt_hat = sum(x_mu * x_mu *x_mu* x_mu)/n/(cm2*cm2)\n",
    "    excessKurt_hat = kurt_hat - 3\n",
    "    return skew_hat,excessKurt_hat\n",
    "def final_stat():\n",
    "    list=[]\n",
    "    a=0\n",
    "    b=0\n",
    "    for i in range (1,2000):\n",
    "        list.append(fourmoments(1000))\n",
    "    for item in list:\n",
    "        a=a+item[0]\n",
    "    for item in list:\n",
    "        b = b + item[1]\n",
    "    a=a/2000\n",
    "    b=b/2000\n",
    "    return a,b\n",
    "\n",
    "print(final_stat())\n",
    "\n",
    "\n",
    "\n",
    "\n",
    "\n",
    "\n"
   ]
  }
 ],
 "metadata": {
  "kernelspec": {
   "display_name": "Python 3 (ipykernel)",
   "language": "python",
   "name": "python3"
  },
  "language_info": {
   "codemirror_mode": {
    "name": "ipython",
    "version": 3
   },
   "file_extension": ".py",
   "mimetype": "text/x-python",
   "name": "python",
   "nbconvert_exporter": "python",
   "pygments_lexer": "ipython3",
   "version": "3.9.13"
  }
 },
 "nbformat": 4,
 "nbformat_minor": 5
}
